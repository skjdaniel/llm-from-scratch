{
 "cells": [
  {
   "cell_type": "markdown",
   "metadata": {},
   "source": [
    "# From LLama 2 7B to Llama 3 8B"
   ]
  },
  {
   "cell_type": "markdown",
   "metadata": {},
   "source": [
    "Convert Llama 2 7B to Llama 3 8B. Instantiate a toy Llama 3 model.\n",
    "\n",
    "I don't train the model or load model weights from elsewhere.\n",
    "\n",
    "Raschka defines a `SharedBuffer` class so that we can reuse the `mask`, `sin`, and `cos` tensors in the transformer blocks. I don't implement this here.\n",
    "\n",
    "Differences between Llama 2 7B and Llama 3 8B:\n",
    "- Different RoPE parameters (`theta_base` is now 500,000 rather than 10,000, and `context_window` is now 8,192 rather than 4,096)\n",
    "- Llama 3 uses grouped-query attention (GQA) rather than multi-head attention (MHA).\n",
    "- Some parameters are different. The context length has doubled (as mentioned above). The hidden dimension of the MLP in the transformer block is a bit larger. The vocab size is much larger.  \n",
    "- Llama 3 uses the GPT-4 tokenizer from Tiktoken (with an extended vocab). (Not relevant for this notebook.)\n",
    "\n",
    "In this notebook:\n",
    "- Imports.\n",
    "- Implement RoPE (same as in Llama 2; only the `theta_base` and `context_window` are different).\n",
    "- RoPE parameters (comparing Llama 2 and Llama 3).\n",
    "- `GroupedQueryAttention` class.\n",
    "- `MultiHeadAttention` class from Llama 2 for comparison.\n",
    "- Illustration of some differences betweeh GQA and MHA.\n",
    "- Transformer block. \n",
    "- Llama 3 model class.\n",
    "- Configuration for Llama 3 8B, Llama 2 7B (for comparison), and a toy Llama 3 model.\n",
    "- Instantiate the toy Llama 3 model."
   ]
  },
  {
   "cell_type": "markdown",
   "metadata": {},
   "source": [
    "### Imports"
   ]
  },
  {
   "cell_type": "code",
   "execution_count": 1,
   "metadata": {},
   "outputs": [],
   "source": [
    "import torch\n",
    "import torch.nn as nn\n",
    "import torch.nn.functional as F\n",
    "\n",
    "from einops import rearrange, repeat"
   ]
  },
  {
   "cell_type": "markdown",
   "metadata": {},
   "source": [
    "### Implement RoPE\n",
    "\n",
    "- Same structure as in Llama 2; only the `theta_base` and `context_length` are different"
   ]
  },
  {
   "cell_type": "code",
   "execution_count": 2,
   "metadata": {},
   "outputs": [],
   "source": [
    "def precompute_rope_params(d, theta_base=500_000, \n",
    "                        context_length=8192):\n",
    "    div_term = torch.exp(torch.arange(0, d, 2)[: (d // 2)].float() * (-torch.log(torch.tensor(theta_base)) / d))\n",
    "    positions = rearrange(torch.arange(0, context_length, dtype=torch.float), 'i -> i 1')\n",
    "    angles = positions * div_term\n",
    "    angles = torch.cat([angles, angles], dim=-1)\n",
    "    cos = torch.cos(angles)\n",
    "    sin = torch.sin(angles)\n",
    "    return cos, sin\n",
    "\n",
    "def compute_rope(x, cos, sin):\n",
    "    b, h, t, d = x.shape\n",
    "    assert d % 2 == 0, \"Head dimension must be even\"\n",
    "\n",
    "    x1 = x[:, :, :, : d // 2]\n",
    "    x2 = x[:, :, :, d // 2 :]\n",
    "\n",
    "    cos = rearrange(cos[: t, :], 't d -> 1 1 t d')\n",
    "    sin = rearrange(sin[: t, :], 't d -> 1 1 t d')\n",
    "    rotated = torch.cat((-x2, x1), dim=-1)\n",
    "    x_rotated = x * cos + rotated * sin\n",
    "    return x_rotated.to(dtype=x.dtype)"
   ]
  },
  {
   "cell_type": "markdown",
   "metadata": {},
   "source": [
    "### RoPE parameters"
   ]
  },
  {
   "cell_type": "code",
   "execution_count": 3,
   "metadata": {},
   "outputs": [],
   "source": [
    "llama_2_context_len = 4096\n",
    "llama_3_context_len = 8192\n",
    "\n",
    "llama_2_theta_base = 10_000\n",
    "llama_3_theta_base = 500_000"
   ]
  },
  {
   "cell_type": "markdown",
   "metadata": {},
   "source": [
    "### Grouped-query attention"
   ]
  },
  {
   "cell_type": "code",
   "execution_count": 4,
   "metadata": {},
   "outputs": [],
   "source": [
    "class GroupedQueryAttention(nn.Module):\n",
    "\n",
    "    def __init__(self, d_model, d_k, d_v, \n",
    "                    context_length, n_heads,\n",
    "                    n_kv_groups, dtype=None):\n",
    "        super().__init__()\n",
    "\n",
    "        assert n_heads % n_kv_groups == 0, \"Number of heads must be divisible by number of key-value groups\"\n",
    "        \n",
    "        self.n_heads = n_heads\n",
    "        self.n_kv_groups = n_kv_groups\n",
    "        self.group_size = n_heads // n_kv_groups\n",
    "        self.d_k = d_k\n",
    "\n",
    "        self.wq = nn.Linear(d_model, n_heads * d_k, bias=False, dtype=dtype)\n",
    "        self.wk = nn.Linear(d_model, n_kv_groups * d_k, bias=False, dtype=dtype)\n",
    "        self.wv = nn.Linear(d_model, n_kv_groups * d_v, bias=False, dtype=dtype)\n",
    "        self.linear = nn.Linear(n_heads * d_v, d_model, bias=False, dtype=dtype)     \n",
    "        \n",
    "        self.register_buffer('mask', \n",
    "            torch.triu(torch.ones(context_length, context_length), \n",
    "            diagonal=1))   \n",
    "\n",
    "        cos, sin = precompute_rope_params(d=self.d_k, context_length=context_length)\n",
    "        self.register_buffer(\"cos\", cos)\n",
    "        self.register_buffer(\"sin\", sin) \n",
    "        \n",
    "    def forward(self, x):\n",
    "        q = rearrange(self.wq(x), 'b t (h k) -> b h t k', h=self.n_heads)\n",
    "        k = rearrange(self.wk(x), 'b t (nkv k) -> b nkv t k', nkv=self.n_kv_groups)\n",
    "        v = rearrange(self.wv(x), 'b t (nkv v) -> b nkv t v', nkv=self.n_kv_groups)\n",
    "\n",
    "        q = compute_rope(q, self.cos, self.sin)\n",
    "        k = compute_rope(k, self.cos, self.sin)\n",
    "\n",
    "        k = repeat(k, 'b nkv t k -> b (nkv gsz) t k', gsz=self.group_size)\n",
    "        v = repeat(v, 'b nkv t v -> b (nkv gsz) t v', gsz=self.group_size)\n",
    "        \n",
    "        attn = torch.einsum('bhtk, bhsk -> bhts', q, k) / self.d_k**0.5\n",
    "        mask_bool = self.mask.bool()[:x.size(1), :x.size(1)]\n",
    "        attn = attn.masked_fill(mask_bool, -torch.inf)\n",
    "        attn = F.softmax(attn, dim=3)\n",
    "        out = torch.einsum('bhts, bhsv -> bhtv', attn, v)\n",
    "        out = rearrange(out, 'b h t v -> b t (h v)')\n",
    "        return self.linear(out)"
   ]
  },
  {
   "cell_type": "markdown",
   "metadata": {},
   "source": [
    "### Multi-head attention (for comparison)"
   ]
  },
  {
   "cell_type": "code",
   "execution_count": 5,
   "metadata": {},
   "outputs": [],
   "source": [
    "class MultiHeadAttention(nn.Module):\n",
    "\n",
    "    def __init__(self, d_model, d_k, d_v,\n",
    "            context_length, n_heads, dtype=None):\n",
    "        super().__init__()\n",
    "        self.n_heads = n_heads\n",
    "        self.d_k = d_k\n",
    "        self.wq = nn.Linear(d_model, n_heads * d_k, bias=False, dtype=dtype)\n",
    "        self.wk = nn.Linear(d_model, n_heads * d_k, bias=False, dtype=dtype)\n",
    "        self.wv = nn.Linear(d_model, n_heads * d_v, bias=False, dtype=dtype)\n",
    "        self.linear = nn.Linear(n_heads * d_v, d_model, bias=False, dtype=dtype) \n",
    "        self.register_buffer('mask', \n",
    "            torch.triu(torch.ones(context_length, context_length), \n",
    "            diagonal=1))   \n",
    "\n",
    "        cos, sin = precompute_rope_params(d=self.d_k, context_length=context_length)\n",
    "        self.register_buffer(\"cos\", cos)\n",
    "        self.register_buffer(\"sin\", sin) \n",
    "\n",
    "    def forward(self, x):\n",
    "        q = rearrange(self.wq(x), 'b t (h k) -> b h t k', h=self.n_heads)\n",
    "        k = rearrange(self.wk(x), 'b t (h k) -> b h t k', h=self.n_heads)\n",
    "        v = rearrange(self.wv(x), 'b t (h v) -> b h t v', h=self.n_heads)\n",
    "        \n",
    "        q = compute_rope(q, self.cos, self.sin)\n",
    "        k = compute_rope(k, self.cos, self.sin)\n",
    "\n",
    "        attn = torch.einsum('bhtk, bhsk -> bhts', q, k) / self.d_k**0.5\n",
    "        mask_bool = self.mask.bool()[:x.size(1), :x.size(1)]\n",
    "        attn = attn.masked_fill(mask_bool, -torch.inf)\n",
    "        attn = F.softmax(attn, dim=3)\n",
    "        out = torch.einsum('bhts, bhsv -> bhtv', attn, v)\n",
    "        out = rearrange(out, 'b h t v -> b t (h v)')\n",
    "        return self.linear(out) "
   ]
  },
  {
   "cell_type": "markdown",
   "metadata": {},
   "source": [
    "### Illustrate differences between MHA and GQA"
   ]
  },
  {
   "cell_type": "code",
   "execution_count": 6,
   "metadata": {},
   "outputs": [
    {
     "name": "stdout",
     "output_type": "stream",
     "text": [
      "MHA:\n",
      "W_query: torch.Size([4096, 4096])\n",
      "W_key: torch.Size([4096, 4096])\n",
      "W_value: torch.Size([4096, 4096])\n",
      "\n",
      "GQA:\n",
      "W_query: torch.Size([4096, 4096])\n",
      "W_key: torch.Size([1024, 4096])\n",
      "W_value: torch.Size([1024, 4096])\n"
     ]
    }
   ],
   "source": [
    "batch_size = 1\n",
    "context_len = 3000\n",
    "max_context_len = 8192\n",
    "embed_dim = 4096\n",
    "num_heads = 32\n",
    "num_kv_groups=8\n",
    "\n",
    "example_batch = torch.randn((batch_size, context_len, embed_dim))\n",
    "\n",
    "mha = MultiHeadAttention(\n",
    "    d_model=embed_dim,\n",
    "    d_k=embed_dim//num_heads,\n",
    "    d_v=embed_dim//num_heads,\n",
    "    context_length=max_context_len,\n",
    "    n_heads=num_heads\n",
    ")\n",
    "\n",
    "mha(example_batch)\n",
    "\n",
    "gqa = GroupedQueryAttention(\n",
    "    d_model=embed_dim,\n",
    "    d_k=embed_dim//num_heads,\n",
    "    d_v=embed_dim//num_heads,\n",
    "    context_length=max_context_len,\n",
    "    n_heads=num_heads,\n",
    "    n_kv_groups=num_kv_groups\n",
    ")\n",
    "\n",
    "gqa(example_batch)\n",
    "\n",
    "print(\"MHA:\")\n",
    "print(\"W_query:\", mha.wq.weight.shape)\n",
    "print(\"W_key:\", mha.wk.weight.shape)\n",
    "print(\"W_value:\", mha.wv.weight.shape)\n",
    "\n",
    "print()\n",
    "print(\"GQA:\")\n",
    "print(\"W_query:\", gqa.wq.weight.shape)\n",
    "print(\"W_key:\", gqa.wk.weight.shape)\n",
    "print(\"W_value:\", gqa.wv.weight.shape)\n"
   ]
  },
  {
   "cell_type": "code",
   "execution_count": 7,
   "metadata": {},
   "outputs": [
    {
     "name": "stdout",
     "output_type": "stream",
     "text": [
      "Total number of parameters:\n",
      "MHA: 67,108,864\n",
      "GQA: 41,943,040\n"
     ]
    }
   ],
   "source": [
    "print(\"Total number of parameters:\")\n",
    "\n",
    "mha_total_params = sum(p.numel() for p in mha.parameters())\n",
    "print(f\"MHA: {mha_total_params:,}\")\n",
    "\n",
    "gqa_total_params = sum(p.numel() for p in gqa.parameters())\n",
    "print(f\"GQA: {gqa_total_params:,}\")"
   ]
  },
  {
   "cell_type": "code",
   "execution_count": 8,
   "metadata": {},
   "outputs": [],
   "source": [
    "del mha\n",
    "del gqa"
   ]
  },
  {
   "cell_type": "markdown",
   "metadata": {},
   "source": [
    "### Transformer block\n",
    "\n",
    "- the only change from Llama 2 is GQA instead of MHA."
   ]
  },
  {
   "cell_type": "code",
   "execution_count": 9,
   "metadata": {},
   "outputs": [],
   "source": [
    "class TransformerBlock(nn.Module):\n",
    "\n",
    "    def __init__(self, cfg):\n",
    "        super().__init__()\n",
    "        self.attn = GroupedQueryAttention(\n",
    "            cfg['d_model'], cfg['d_k'], cfg['d_v'], \n",
    "            cfg['context_length'], cfg['n_heads'],\n",
    "            cfg['n_kv_groups'], cfg['dtype'])\n",
    "        self.norm1 = nn.RMSNorm(cfg['d_model'])\n",
    "        self.fc1 = nn.Linear(cfg['d_model'], cfg['hidden_dim'],\n",
    "                        dtype=cfg['dtype'], bias=False) \n",
    "        self.fc2 = nn.Linear(cfg['d_model'], cfg['hidden_dim'],\n",
    "                        dtype=cfg['dtype'], bias=False) \n",
    "        self.fc3 = nn.Linear(cfg['hidden_dim'], cfg['d_model'],\n",
    "                        dtype=cfg['dtype'], bias=False)\n",
    "        self.silu = nn.SiLU()\n",
    "        self.norm2 = nn.RMSNorm(cfg['d_model'])\n",
    "\n",
    "    def forward(self, x):\n",
    "        shortcut = x\n",
    "        x = self.attn(self.norm1(x))\n",
    "        x = x + shortcut\n",
    "\n",
    "        shortcut = x\n",
    "        x = self.norm2(x)\n",
    "        x = self.silu(self.fc1(x)) * self.fc2(x)\n",
    "        x = self.fc3(x)\n",
    "        x = x + shortcut\n",
    "        return x"
   ]
  },
  {
   "cell_type": "markdown",
   "metadata": {},
   "source": [
    "### Llama 3 model class\n",
    "\n",
    "- only the name changes"
   ]
  },
  {
   "cell_type": "code",
   "execution_count": 10,
   "metadata": {},
   "outputs": [],
   "source": [
    "class Llama3Model(nn.Module):\n",
    "\n",
    "    def __init__(self, cfg):\n",
    "        super().__init__()\n",
    "        self.token_embedding = nn.Embedding(\n",
    "            cfg['vocab_size'], \n",
    "            cfg['d_model'], \n",
    "            dtype=cfg['dtype']\n",
    "            )\n",
    "        self.trf_blocks = nn.Sequential(*[\n",
    "            TransformerBlock(cfg) for _ in range(cfg['n_blocks'])\n",
    "        ])\n",
    "        self.final_norm = nn.RMSNorm(cfg['d_model'])    \n",
    "        self.out_head = nn.Linear(\n",
    "            cfg['d_model'], \n",
    "            cfg['vocab_size'],\n",
    "            bias=False,\n",
    "            dtype=cfg['dtype']\n",
    "            )\n",
    "\n",
    "    def forward(self, x):\n",
    "        x= self.token_embedding(x)\n",
    "        x = self.trf_blocks(x)  \n",
    "        x = self.final_norm(x)\n",
    "        logits = self.out_head(x)\n",
    "        return logits "
   ]
  },
  {
   "cell_type": "markdown",
   "metadata": {},
   "source": [
    "### Llama 3 8B config"
   ]
  },
  {
   "cell_type": "code",
   "execution_count": 11,
   "metadata": {},
   "outputs": [],
   "source": [
    "LLAMA2_CONFIG_7B = {\n",
    "    \"vocab_size\": 32000,     \n",
    "    \"context_length\": 4096, \n",
    "    \"d_model\": 4096,\n",
    "    \"d_k\": 128,\n",
    "    \"d_v\": 128,       \n",
    "    \"n_heads\": 32,           \n",
    "    \"n_blocks\": 32,          \n",
    "    \"hidden_dim\": 11008,    \n",
    "    \"dtype\": torch.bfloat16  \n",
    "}\n",
    "\n",
    "LLAMA3_CONFIG_8B = {\n",
    "    \"vocab_size\": 128_256,     \n",
    "    \"context_length\": 8192, \n",
    "    \"d_model\": 4096,\n",
    "    \"d_k\": 128,\n",
    "    \"d_v\": 128,       \n",
    "    \"n_heads\": 32,  \n",
    "    \"n_kv_groups\": 8,         \n",
    "    \"n_blocks\": 32,          \n",
    "    \"hidden_dim\": 14_336,    \n",
    "    \"dtype\": torch.bfloat16  \n",
    "}\n",
    "\n",
    "LLAMA3_CONFIG_TOY = {\n",
    "    \"vocab_size\": 1000,     \n",
    "    \"context_length\": 8192, \n",
    "    \"d_model\": 64,\n",
    "    \"d_k\": 4,\n",
    "    \"d_v\": 4,       \n",
    "    \"n_heads\": 16,  \n",
    "    \"n_kv_groups\": 8,         \n",
    "    \"n_blocks\": 2,          \n",
    "    \"hidden_dim\": 64,    \n",
    "    \"dtype\": torch.bfloat16  \n",
    "}"
   ]
  },
  {
   "cell_type": "markdown",
   "metadata": {},
   "source": [
    "### Instantiate toy model"
   ]
  },
  {
   "cell_type": "code",
   "execution_count": 12,
   "metadata": {},
   "outputs": [
    {
     "data": {
      "text/plain": [
       "Llama3Model(\n",
       "  (token_embedding): Embedding(1000, 64)\n",
       "  (trf_blocks): Sequential(\n",
       "    (0): TransformerBlock(\n",
       "      (attn): GroupedQueryAttention(\n",
       "        (wq): Linear(in_features=64, out_features=64, bias=False)\n",
       "        (wk): Linear(in_features=64, out_features=32, bias=False)\n",
       "        (wv): Linear(in_features=64, out_features=32, bias=False)\n",
       "        (linear): Linear(in_features=64, out_features=64, bias=False)\n",
       "      )\n",
       "      (norm1): RMSNorm((64,), eps=None, elementwise_affine=True)\n",
       "      (fc1): Linear(in_features=64, out_features=64, bias=False)\n",
       "      (fc2): Linear(in_features=64, out_features=64, bias=False)\n",
       "      (fc3): Linear(in_features=64, out_features=64, bias=False)\n",
       "      (silu): SiLU()\n",
       "      (norm2): RMSNorm((64,), eps=None, elementwise_affine=True)\n",
       "    )\n",
       "    (1): TransformerBlock(\n",
       "      (attn): GroupedQueryAttention(\n",
       "        (wq): Linear(in_features=64, out_features=64, bias=False)\n",
       "        (wk): Linear(in_features=64, out_features=32, bias=False)\n",
       "        (wv): Linear(in_features=64, out_features=32, bias=False)\n",
       "        (linear): Linear(in_features=64, out_features=64, bias=False)\n",
       "      )\n",
       "      (norm1): RMSNorm((64,), eps=None, elementwise_affine=True)\n",
       "      (fc1): Linear(in_features=64, out_features=64, bias=False)\n",
       "      (fc2): Linear(in_features=64, out_features=64, bias=False)\n",
       "      (fc3): Linear(in_features=64, out_features=64, bias=False)\n",
       "      (silu): SiLU()\n",
       "      (norm2): RMSNorm((64,), eps=None, elementwise_affine=True)\n",
       "    )\n",
       "  )\n",
       "  (final_norm): RMSNorm((64,), eps=None, elementwise_affine=True)\n",
       "  (out_head): Linear(in_features=64, out_features=1000, bias=False)\n",
       ")"
      ]
     },
     "execution_count": 12,
     "metadata": {},
     "output_type": "execute_result"
    }
   ],
   "source": [
    "model = Llama3Model(LLAMA3_CONFIG_TOY)\n",
    "model"
   ]
  },
  {
   "cell_type": "code",
   "execution_count": 13,
   "metadata": {},
   "outputs": [
    {
     "name": "stdout",
     "output_type": "stream",
     "text": [
      "The model has 177,472 trainable parameters\n"
     ]
    }
   ],
   "source": [
    "def count_parameters(model):\n",
    "    return sum(p.numel() for p in model.parameters() if p.requires_grad)\n",
    "\n",
    "print(f'The model has {count_parameters(model):,} trainable parameters')"
   ]
  }
 ],
 "metadata": {
  "kernelspec": {
   "display_name": "llm_from_scratch",
   "language": "python",
   "name": "python3"
  },
  "language_info": {
   "codemirror_mode": {
    "name": "ipython",
    "version": 3
   },
   "file_extension": ".py",
   "mimetype": "text/x-python",
   "name": "python",
   "nbconvert_exporter": "python",
   "pygments_lexer": "ipython3",
   "version": "3.11.10"
  }
 },
 "nbformat": 4,
 "nbformat_minor": 2
}
