{
 "cells": [
  {
   "cell_type": "markdown",
   "metadata": {},
   "source": [
    "# LLM from scratch"
   ]
  },
  {
   "cell_type": "markdown",
   "metadata": {},
   "source": [
    "Build GPT-2 (small) from scratch and train on a (very) small dataset.\n",
    "\n",
    "- `MultiHeadAttention` class for masked MHA using `einsum` and `rearrange` from `einops`. \n",
    "- Model config, including the number of attention heads, the number of transformer blocks, and vocab size. Here we use a shorter context length (256 instead of the original 1024).\n",
    "- `ApproxGELU` class. The feedforward network of the transformer blocks use this approximation to GELU activation.\n",
    "- `TransformerBlock` class with pre-layernorm configuration.\n",
    "- `GPTVerdict` class. GPT-2 model to be trained on a text called \"The Verdict\".\n",
    "- Instantiate the model. The model has ~162 million parameters (the original GPT-2 has ~124 million because of weight tying).\n",
    "- Define functions to convert from text to token indexes and from token indexes to text, and to greedily generate token indexes.\n",
    "- Greedily generate a bit of text from the untrained model, just to check if everything's working.\n",
    "- Load the text to train on (in this case a short story called The Verdict).\n",
    "- Define the PyTorch dataset and a `create_dataloader` function.\n",
    "- Print out a trial batch in order to get a feel for how the dataloader works.\n",
    "- Define the train and val datasets and dataloaders.\n",
    "- Functions to evaluate the model (returning train and val losses) and to generate and print sample text.\n",
    "- Functions to train the model and plot losses.\n",
    "- Train the model or, if model already trained, load saved weights.\n",
    "- Function to generate text using top-k sampling. Print out some text generated using different values of k and different temperatures."
   ]
  },
  {
   "cell_type": "markdown",
   "metadata": {},
   "source": [
    "### Imports"
   ]
  },
  {
   "cell_type": "code",
   "execution_count": 1,
   "metadata": {},
   "outputs": [],
   "source": [
    "import os\n",
    "\n",
    "import tiktoken\n",
    "\n",
    "import math\n",
    "\n",
    "import torch\n",
    "import torch.nn as nn\n",
    "import torch.nn.functional as F\n",
    "from torch.utils.data import Dataset, DataLoader\n",
    "\n",
    "from einops import rearrange\n",
    "\n",
    "import numpy as np\n",
    "import matplotlib.pyplot as plt\n",
    "\n",
    "from transformers import GPT2Model\n",
    "\n",
    "from IPython.display import Image"
   ]
  },
  {
   "cell_type": "markdown",
   "metadata": {},
   "source": [
    "### Multi-head attention"
   ]
  },
  {
   "cell_type": "code",
   "execution_count": 2,
   "metadata": {},
   "outputs": [],
   "source": [
    "class MultiHeadAttention(nn.Module):\n",
    "\n",
    "    def __init__(self, d_model, d_k, d_v, dropout,\n",
    "            context_length, n_heads, qkv_bias=False):\n",
    "        super().__init__()\n",
    "        self.n_heads = n_heads\n",
    "        self.d_k = d_k\n",
    "        self.wq = nn.Linear(d_model, n_heads * d_k, bias=qkv_bias)\n",
    "        self.wk = nn.Linear(d_model, n_heads * d_k, bias=qkv_bias)\n",
    "        self.wv = nn.Linear(d_model, n_heads * d_v, bias=qkv_bias)\n",
    "        self.linear = nn.Linear(n_heads * d_v, d_model) \n",
    "        self.dropout = nn.Dropout(dropout)\n",
    "        self.register_buffer('mask', \n",
    "            torch.triu(torch.ones(context_length, context_length), \n",
    "            diagonal=1))    \n",
    "\n",
    "    def forward(self, x):\n",
    "        q = rearrange(self.wq(x), 'b t (h k) -> b h t k', h=self.n_heads)\n",
    "        k = rearrange(self.wk(x), 'b t (h k) -> b h t k', h=self.n_heads)\n",
    "        v = rearrange(self.wv(x), 'b t (h v) -> b h t v', h=self.n_heads)\n",
    "        attn = torch.einsum('bhtk, bhsk -> bhts', q, k) / self.d_k**0.5\n",
    "        mask_bool = self.mask.bool()[:x.size(1), :x.size(1)]\n",
    "        attn = attn.masked_fill(mask_bool, -torch.inf)\n",
    "        attn = F.softmax(attn, dim=3)\n",
    "        attn = self.dropout(attn)\n",
    "        out = torch.einsum('bhts, bhsv -> bhtv', attn, v)\n",
    "        out = rearrange(out, 'b h t v -> b t (h v)')\n",
    "        return self.linear(out) "
   ]
  },
  {
   "cell_type": "markdown",
   "metadata": {},
   "source": [
    "### Model config"
   ]
  },
  {
   "cell_type": "code",
   "execution_count": 9,
   "metadata": {},
   "outputs": [],
   "source": [
    "CONFIG = {\n",
    "    'vocab_size': 50257,\n",
    "    'context_length': 256,\n",
    "    'd_model': 768,\n",
    "    'd_k': 64,\n",
    "    'd_v': 64,\n",
    "    'n_heads': 12,\n",
    "    'n_blocks': 12,\n",
    "    'dropout': 0.2,\n",
    "    'qkv_bias': False\n",
    "}"
   ]
  },
  {
   "cell_type": "markdown",
   "metadata": {},
   "source": [
    "### Approximate GELU"
   ]
  },
  {
   "cell_type": "code",
   "execution_count": 4,
   "metadata": {},
   "outputs": [],
   "source": [
    "class ApproxGELU(nn.Module):\n",
    "    def __init__(self):\n",
    "        super().__init__()\n",
    "\n",
    "    def forward(self, x):\n",
    "        return 0.5 * x * (1 + torch.tanh(0.79788456 * (x + 0.044715 * x**3)))   "
   ]
  },
  {
   "cell_type": "markdown",
   "metadata": {},
   "source": [
    "### Transformer block"
   ]
  },
  {
   "cell_type": "code",
   "execution_count": 5,
   "metadata": {},
   "outputs": [],
   "source": [
    "class TransformerBlock(nn.Module):\n",
    "\n",
    "    def __init__(self, cfg):\n",
    "        super().__init__()\n",
    "        self.attn = MultiHeadAttention(\n",
    "            cfg['d_model'], cfg['d_k'], cfg['d_v'], \n",
    "            cfg['dropout'], cfg['context_length'], \n",
    "            cfg['n_heads'], cfg['qkv_bias'])\n",
    "        self.ln1 = nn.LayerNorm(cfg['d_model'])\n",
    "        self.mlp = nn.Sequential(\n",
    "            nn.Linear(cfg['d_model'], 4 * cfg['d_model']),\n",
    "            ApproxGELU(),\n",
    "            nn.Linear(4 * cfg['d_model'], cfg['d_model'])\n",
    "        )\n",
    "        self.ln2 = nn.LayerNorm(cfg['d_model'])\n",
    "        self.dropout = nn.Dropout(cfg['dropout'])\n",
    "\n",
    "    def forward(self, x):\n",
    "        shortcut = x\n",
    "        x = self.dropout(self.attn(self.ln1(x)))\n",
    "        x = x + shortcut\n",
    "\n",
    "        shortcut = x\n",
    "        x = self.dropout(self.mlp(self.ln2(x)))\n",
    "        x = x + shortcut\n",
    "        return x"
   ]
  },
  {
   "cell_type": "markdown",
   "metadata": {},
   "source": [
    "### GPT-2 model"
   ]
  },
  {
   "cell_type": "code",
   "execution_count": 10,
   "metadata": {},
   "outputs": [],
   "source": [
    "class GPTVerdict(nn.Module):\n",
    "\n",
    "    def __init__(self, cfg):\n",
    "        super().__init__()\n",
    "        self.token_embedding = nn.Embedding(cfg['vocab_size'], cfg['d_model'])\n",
    "        self.position_embedding = nn.Embedding(cfg['context_length'], cfg['d_model'])\n",
    "        self.dropout = nn.Dropout(cfg['dropout'])\n",
    "        self.blocks = nn.ModuleList([\n",
    "            TransformerBlock(cfg) for _ in range(cfg['n_blocks'])\n",
    "        ])\n",
    "        self.ln = nn.LayerNorm(cfg['d_model'])\n",
    "        self.out_head = nn.Linear(cfg['d_model'], cfg['vocab_size'])\n",
    "\n",
    "    def forward(self, x):\n",
    "        b, t = x.size()\n",
    "        x = self.token_embedding(x)\n",
    "        x = x + self.position_embedding(torch.arange(t, device=x.device))   \n",
    "        x = self.dropout(x)\n",
    "        for block in self.blocks:\n",
    "            x = block(x)\n",
    "        x = self.ln(x)\n",
    "        logits = self.out_head(x)\n",
    "        return logits"
   ]
  },
  {
   "cell_type": "code",
   "execution_count": 11,
   "metadata": {},
   "outputs": [
    {
     "data": {
      "text/plain": [
       "GPTVerdict(\n",
       "  (token_embedding): Embedding(50257, 768)\n",
       "  (position_embedding): Embedding(1024, 768)\n",
       "  (dropout): Dropout(p=0.2, inplace=False)\n",
       "  (blocks): ModuleList(\n",
       "    (0-11): 12 x TransformerBlock(\n",
       "      (attn): MultiHeadAttention(\n",
       "        (wq): Linear(in_features=768, out_features=768, bias=False)\n",
       "        (wk): Linear(in_features=768, out_features=768, bias=False)\n",
       "        (wv): Linear(in_features=768, out_features=768, bias=False)\n",
       "        (linear): Linear(in_features=768, out_features=768, bias=True)\n",
       "        (dropout): Dropout(p=0.2, inplace=False)\n",
       "      )\n",
       "      (ln1): LayerNorm((768,), eps=1e-05, elementwise_affine=True)\n",
       "      (mlp): Sequential(\n",
       "        (0): Linear(in_features=768, out_features=3072, bias=True)\n",
       "        (1): ApproxGELU()\n",
       "        (2): Linear(in_features=3072, out_features=768, bias=True)\n",
       "      )\n",
       "      (ln2): LayerNorm((768,), eps=1e-05, elementwise_affine=True)\n",
       "      (dropout): Dropout(p=0.2, inplace=False)\n",
       "    )\n",
       "  )\n",
       "  (ln): LayerNorm((768,), eps=1e-05, elementwise_affine=True)\n",
       "  (out_head): Linear(in_features=768, out_features=50257, bias=True)\n",
       ")"
      ]
     },
     "execution_count": 11,
     "metadata": {},
     "output_type": "execute_result"
    }
   ],
   "source": [
    "model = GPTVerdict(CONFIG)\n",
    "model"
   ]
  },
  {
   "cell_type": "code",
   "execution_count": 12,
   "metadata": {},
   "outputs": [
    {
     "name": "stdout",
     "output_type": "stream",
     "text": [
      "The model has 163,059,793 trainable parameters\n"
     ]
    }
   ],
   "source": [
    "def count_parameters(model):\n",
    "    return sum(p.numel() for p in model.parameters() if p.requires_grad)\n",
    "\n",
    "print(f'The model has {count_parameters(model):,} trainable parameters')"
   ]
  },
  {
   "cell_type": "markdown",
   "metadata": {},
   "source": [
    "### Functions to greedily generate text"
   ]
  },
  {
   "cell_type": "code",
   "execution_count": 9,
   "metadata": {},
   "outputs": [],
   "source": [
    "def generate_idxs_greedily(model, idx_batch, max_new_tokens, context_size):\n",
    "    for _ in range(max_new_tokens):\n",
    "        cropped_idx_batch = idx_batch[:, -context_size:] # idx_batch is (batch, n_tokens)\n",
    "        with torch.no_grad():\n",
    "            logits = model(cropped_idx_batch)                   \n",
    "        next_token_logits = logits[:, -1, :]  # (batch, n_tokens, vocab_size) -> (batch, vocab_size)\n",
    "        next_token_probs = torch.softmax(next_token_logits, dim=-1) \n",
    "        next_token_idx = torch.argmax(next_token_probs, dim=-1, keepdim=True)  # (batch, 1)\n",
    "        idx_batch = torch.cat((idx_batch, next_token_idx), dim=1)  # (batch, n_tokens+1)\n",
    "    return idx_batch\n",
    "\n",
    "def text_to_idxs(text, tokenizer):\n",
    "    idxs = tokenizer.encode(text, allowed_special={'<|endoftext|>'})\n",
    "    return rearrange(torch.tensor(idxs), 'n -> 1 n')\n",
    "\n",
    "def idxs_to_text(idxs, tokenizer):\n",
    "    idxs = rearrange(idxs, '1 n -> n')\n",
    "    return tokenizer.decode(idxs.tolist())"
   ]
  },
  {
   "cell_type": "markdown",
   "metadata": {},
   "source": [
    "### Greedily generate text from untrained model"
   ]
  },
  {
   "cell_type": "code",
   "execution_count": 10,
   "metadata": {},
   "outputs": [
    {
     "name": "stdout",
     "output_type": "stream",
     "text": [
      "Hello, I amiumBSD adolesc Or phantom Doctors involve rootbol Er\n"
     ]
    }
   ],
   "source": [
    "tokenizer = tiktoken.get_encoding(\"gpt2\")\n",
    "\n",
    "trial_start_context = \"Hello, I am\"\n",
    "\n",
    "model.eval() \n",
    "out = generate_idxs_greedily(model=model,\n",
    "                        idx_batch=text_to_idxs(trial_start_context, tokenizer),\n",
    "                        max_new_tokens=10,\n",
    "                        context_size=CONFIG[\"context_length\"]\n",
    "                        ) \n",
    "\n",
    "print(idxs_to_text(out, tokenizer))"
   ]
  },
  {
   "cell_type": "markdown",
   "metadata": {},
   "source": [
    "### Text data to train and evaluate model on"
   ]
  },
  {
   "cell_type": "code",
   "execution_count": 11,
   "metadata": {},
   "outputs": [
    {
     "name": "stdout",
     "output_type": "stream",
     "text": [
      "total number of characters: 20479\n",
      "total number of tokens: 5145\n"
     ]
    }
   ],
   "source": [
    "with open('data/the-verdict.txt', 'r', encoding='utf-8') as f:\n",
    "    text_data = f.read()\n",
    "\n",
    "print('total number of characters:', len(text_data))\n",
    "print('total number of tokens:', len(tokenizer.encode(text_data)))"
   ]
  },
  {
   "cell_type": "markdown",
   "metadata": {},
   "source": [
    "### PyTorch dataset and dataloader"
   ]
  },
  {
   "cell_type": "code",
   "execution_count": 12,
   "metadata": {},
   "outputs": [],
   "source": [
    "class GPTDataset(Dataset):\n",
    "    def __init__(self, text, tokenizer, max_length, stride):\n",
    "        self.tokenizer = tokenizer\n",
    "        self.token_ids = tokenizer.encode(text)\n",
    "        self.input_ids = []\n",
    "        self.target_ids = []\n",
    "\n",
    "        for i in range(0, len(self.token_ids) - max_length, stride):\n",
    "            input_chunk = self.token_ids[i:i+max_length]\n",
    "            target_chunk = self.token_ids[i+1:i+max_length+1]\n",
    "            self.input_ids.append(torch.tensor(input_chunk))\n",
    "            self.target_ids.append(torch.tensor(target_chunk))\n",
    "    \n",
    "    def __len__(self):\n",
    "        return len(self.input_ids)\n",
    "    \n",
    "    def __getitem__(self, idx):\n",
    "        return self.input_ids[idx], self.target_ids[idx]"
   ]
  },
  {
   "cell_type": "code",
   "execution_count": 13,
   "metadata": {},
   "outputs": [],
   "source": [
    "def create_dataloader(text, batch_size=4, max_length=256,\n",
    "                        stride=128, shuffle=True, drop_last=True):\n",
    "    tokenizer = tiktoken.get_encoding(\"gpt2\")\n",
    "    dataset = GPTDataset(text, tokenizer, max_length, stride)   \n",
    "    dataloader = DataLoader(dataset, batch_size=batch_size, \n",
    "                shuffle=shuffle, drop_last=drop_last)\n",
    "    return dataloader"
   ]
  },
  {
   "cell_type": "markdown",
   "metadata": {},
   "source": [
    "### Trial dataloader and batch"
   ]
  },
  {
   "cell_type": "code",
   "execution_count": 14,
   "metadata": {},
   "outputs": [
    {
     "data": {
      "text/plain": [
       "[tensor([[  13,  198,  198,  ..., 1167, 2588,  856],\n",
       "         [ 198,  198, 6653,  ...,  284,  766,  340],\n",
       "         [  13,  679,  550,  ...,  198,  198,    1],\n",
       "         [ 262, 9074,   13,  ..., 1781,  286,  257]]),\n",
       " tensor([[  198,   198,     1,  ...,  2588,   856,   607],\n",
       "         [  198,  6653, 11441,  ...,   766,   340,    13],\n",
       "         [  679,   550, 17273,  ...,   198,     1,  1532],\n",
       "         [ 9074,    13,   536,  ...,   286,   257,  1178]])]"
      ]
     },
     "execution_count": 14,
     "metadata": {},
     "output_type": "execute_result"
    }
   ],
   "source": [
    "trial_dataloader = create_dataloader(text_data, batch_size=4, max_length=256,\n",
    "                                stride=1, shuffle=True, drop_last=True)\n",
    "\n",
    "trial_batch = next(iter(trial_dataloader))\n",
    "trial_batch     "
   ]
  },
  {
   "cell_type": "markdown",
   "metadata": {},
   "source": [
    "### Train and val datasets and dataloaders"
   ]
  },
  {
   "cell_type": "code",
   "execution_count": 15,
   "metadata": {},
   "outputs": [],
   "source": [
    "train_ratio = 0.90\n",
    "split_idx = int(train_ratio * len(text_data))\n",
    "train_data = text_data[:split_idx]\n",
    "val_data = text_data[split_idx:]"
   ]
  },
  {
   "cell_type": "code",
   "execution_count": 16,
   "metadata": {},
   "outputs": [],
   "source": [
    "train_dataloader = create_dataloader(\n",
    "    train_data, batch_size=2, \n",
    "    max_length=CONFIG[\"context_length\"],\n",
    "    stride=CONFIG[\"context_length\"],\n",
    "    drop_last=True,\n",
    "    shuffle=True\n",
    ")\n",
    "\n",
    "val_dataloader = create_dataloader(\n",
    "    val_data, batch_size=2, \n",
    "    max_length=CONFIG[\"context_length\"],\n",
    "    stride=CONFIG[\"context_length\"],\n",
    "    drop_last=False,\n",
    "    shuffle=False\n",
    ") "
   ]
  },
  {
   "cell_type": "markdown",
   "metadata": {},
   "source": [
    "### Functions to evaluate model and to generate and print samples"
   ]
  },
  {
   "cell_type": "code",
   "execution_count": 17,
   "metadata": {},
   "outputs": [],
   "source": [
    "def evaluate_model(model, train_dataloader, val_dataloader, device):\n",
    "    model.eval()\n",
    "    total_train_loss = 0.\n",
    "    total_val_loss = 0.\n",
    "    with torch.no_grad():\n",
    "        for input_batch, target_batch in train_dataloader:\n",
    "            input_batch, target_batch = input_batch.to(device), target_batch.to(device)\n",
    "            logits = model(input_batch)\n",
    "            logits = rearrange(logits, 'b t v -> (b t) v')\n",
    "            target_batch = rearrange(target_batch, 'b t -> (b t)')\n",
    "            loss = F.cross_entropy(logits, target_batch)\n",
    "            total_train_loss += loss.item()\n",
    "        for input_batch, target_batch in val_dataloader:\n",
    "            input_batch, target_batch = input_batch.to(device), target_batch.to(device)\n",
    "            logits = model(input_batch)\n",
    "            logits = rearrange(logits, 'b t v -> (b t) v')\n",
    "            target_batch = rearrange(target_batch, 'b t -> (b t)')\n",
    "            loss = F.cross_entropy(logits, target_batch)\n",
    "            total_val_loss += loss.item()\n",
    "    train_loss = total_train_loss / len(train_dataloader)\n",
    "    val_loss = total_val_loss / len(val_dataloader)\n",
    "    return train_loss, val_loss"
   ]
  },
  {
   "cell_type": "code",
   "execution_count": 18,
   "metadata": {},
   "outputs": [],
   "source": [
    "def generate_and_print_sample(model, tokenizer, start_context, max_new_tokens):\n",
    "    model.eval()\n",
    "    idx_batch = text_to_idxs(start_context, tokenizer).to(device)\n",
    "    with torch.no_grad():\n",
    "        idx_batch = generate_idxs_greedily(\n",
    "                model, idx_batch, max_new_tokens, \n",
    "                CONFIG[\"context_length\"]\n",
    "    )\n",
    "        print(idxs_to_text(idx_batch, tokenizer).replace(\"\\n\", \" \"))  \n",
    "    model.train() "
   ]
  },
  {
   "cell_type": "markdown",
   "metadata": {},
   "source": [
    "### Function to train model"
   ]
  },
  {
   "cell_type": "code",
   "execution_count": 19,
   "metadata": {},
   "outputs": [],
   "source": [
    "def train_model(model, train_dataloader, val_dataloader,\n",
    "                optimizer, criterion, device, n_epochs,\n",
    "                start_context, tokenizer, warmup_steps,\n",
    "                peak_lr = 5e-4, initial_lr=3e-5, min_lr=1e-6):\n",
    "    \n",
    "    train_losses, val_losses, track_lrs = [], [], []\n",
    "    global_step = -1\n",
    "\n",
    "    total_training_steps = len(train_dataloader) * n_epochs\n",
    "    lr_increment = (peak_lr - initial_lr) / warmup_steps\n",
    "\n",
    "    for epoch in range(n_epochs):\n",
    "        model.train()\n",
    "        for input_batch, target_batch in train_dataloader:\n",
    "            global_step += 1\n",
    "            optimizer.zero_grad()\n",
    "            input_batch, target_batch = input_batch.to(device), target_batch.to(device)\n",
    "            logits = model(input_batch)\n",
    "            logits = rearrange(logits, 'b t v -> (b t) v')\n",
    "            target_batch = rearrange(target_batch, 'b t -> (b t)')\n",
    "\n",
    "            if global_step < warmup_steps:\n",
    "                lr = initial_lr + global_step * lr_increment  \n",
    "            else:\n",
    "                progress = ((global_step - warmup_steps) / \n",
    "                            (total_training_steps - warmup_steps))\n",
    "                lr = min_lr + (peak_lr - min_lr) * 0.5 * (1 + math.cos(math.pi * progress))\n",
    "\n",
    "            track_lrs.append(lr)\n",
    "            for param_group in optimizer.param_groups:\n",
    "                param_group['lr'] = lr\n",
    "\n",
    "            loss = criterion(logits, target_batch)\n",
    "            loss.backward()\n",
    "\n",
    "            if global_step > warmup_steps:\n",
    "                torch.nn.utils.clip_grad_norm_(model.parameters(), 1.0)\n",
    "            \n",
    "            optimizer.step()\n",
    "            \n",
    "        train_loss, val_loss = evaluate_model(model, train_dataloader, val_dataloader, device) \n",
    "        train_losses.append(train_loss)\n",
    "        val_losses.append(val_loss)\n",
    "        print(f'Epoch {epoch+1}/{n_epochs}, Train Loss: {train_loss:.4f}, Val Loss: {val_loss:.4f}')\n",
    "\n",
    "        generate_and_print_sample(model, tokenizer=tokenizer, \n",
    "                        start_context=start_context, \n",
    "                        max_new_tokens=50)    \n",
    "\n",
    "    return train_losses, val_losses, track_lrs"
   ]
  },
  {
   "cell_type": "code",
   "execution_count": 20,
   "metadata": {},
   "outputs": [],
   "source": [
    "def plot_losses(epochs_seen, train_losses, val_losses):\n",
    "    fig, ax = plt.subplots(figsize=(5, 3))\n",
    "\n",
    "    ax.plot(epochs_seen, train_losses, label=\"Training loss\")\n",
    "    ax.plot(epochs_seen, val_losses, linestyle=\"-.\", label=\"Validation loss\")\n",
    "    ax.set_xlabel(\"Epochs\")\n",
    "    ax.set_ylabel(\"Loss\")\n",
    "    ax.legend(loc=\"upper right\")\n",
    "    fig.tight_layout()  \n",
    "    plt.savefig(\"images/train-val-loss.png\")"
   ]
  },
  {
   "cell_type": "markdown",
   "metadata": {},
   "source": [
    "### Train model, or load saved weights if they exist"
   ]
  },
  {
   "cell_type": "code",
   "execution_count": 21,
   "metadata": {},
   "outputs": [],
   "source": [
    "torch.manual_seed(42)\n",
    "tokenizer = tiktoken.get_encoding(\"gpt2\")\n",
    "device = torch.device('cuda' if torch.cuda.is_available() else 'cpu')\n",
    "model = GPTVerdict(CONFIG).to(device)\n",
    "optimizer = torch.optim.AdamW(model.parameters(), lr=1e-4)\n",
    "criterion = nn.CrossEntropyLoss()\n",
    "n_epochs = 15\n",
    "start_context = \"Every effort moves you\""
   ]
  },
  {
   "cell_type": "code",
   "execution_count": 22,
   "metadata": {},
   "outputs": [
    {
     "name": "stderr",
     "output_type": "stream",
     "text": [
      "C:\\Users\\skjda\\AppData\\Local\\Temp\\ipykernel_14564\\2787349940.py:2: FutureWarning: You are using `torch.load` with `weights_only=False` (the current default value), which uses the default pickle module implicitly. It is possible to construct malicious pickle data which will execute arbitrary code during unpickling (See https://github.com/pytorch/pytorch/blob/main/SECURITY.md#untrusted-models for more details). In a future release, the default value for `weights_only` will be flipped to `True`. This limits the functions that could be executed during unpickling. Arbitrary objects will no longer be allowed to be loaded via this mode unless they are explicitly allowlisted by the user via `torch.serialization.add_safe_globals`. We recommend you start setting `weights_only=True` for any use case where you don't have full control of the loaded file. Please open an issue on GitHub for any issues related to this experimental feature.\n",
      "  model.load_state_dict(torch.load('models/gpt_verdict.pth'))\n"
     ]
    }
   ],
   "source": [
    "if os.path.exists('models/gpt_verdict.pth'):\n",
    "    model.load_state_dict(torch.load('models/gpt_verdict.pth'))\n",
    "\n",
    "else: \n",
    "    train_losses, val_losses, track_lrs = train_model(\n",
    "        model, train_dataloader, val_dataloader, \n",
    "        optimizer, criterion, device, n_epochs,  \n",
    "        start_context, tokenizer, warmup_steps=10\n",
    "    )\n",
    "\n",
    "    torch.save(model.state_dict(), 'models/gpt_verdict.pth')\n",
    "    epochs_tensor = torch.linspace(0, n_epochs, len(train_losses))\n",
    "    plot_losses(epochs_tensor, train_losses, val_losses)"
   ]
  },
  {
   "cell_type": "code",
   "execution_count": 23,
   "metadata": {},
   "outputs": [
    {
     "data": {
      "image/png": "[encoded data removed]",
      "text/plain": [
       "<IPython.core.display.Image object>"
      ]
     },
     "execution_count": 23,
     "metadata": {},
     "output_type": "execute_result"
    }
   ],
   "source": [
    "Image('images/train-val-loss.png')"
   ]
  },
  {
   "cell_type": "markdown",
   "metadata": {},
   "source": [
    "### Text generation using \"trained\" model and top-k sampling"
   ]
  },
  {
   "cell_type": "code",
   "execution_count": 24,
   "metadata": {},
   "outputs": [],
   "source": [
    "def generate_topk(model, start_context, context_size, max_new_tokens, \n",
    "                    top_k=None, temperature=0.0):\n",
    "    idx_batch = text_to_idxs(start_context, tokenizer).to(device)\n",
    "    for _ in range(max_new_tokens):\n",
    "        cropped_idx_batch = idx_batch[:, -context_size:]\n",
    "        with torch.no_grad():\n",
    "            logits = model(cropped_idx_batch)  \n",
    "        next_token_logits = logits[:, -1, :]  # (batch, n_tokens, vocab_size) -> (batch, vocab_size)\n",
    "\n",
    "        if top_k is not None:\n",
    "            top_k_logits, _ = torch.topk(next_token_logits, top_k, dim=-1)\n",
    "            min_val = top_k_logits[:, -1]\n",
    "            next_token_logits = torch.where(next_token_logits < min_val, \n",
    "                                            torch.ones_like(next_token_logits) * -float('inf'), \n",
    "                                            next_token_logits)\n",
    "    \n",
    "        if temperature > 0.0:\n",
    "            next_token_logits = next_token_logits / temperature\n",
    "            next_token_probs = torch.softmax(next_token_logits, dim=-1)\n",
    "            next_token_idx = torch.multinomial(next_token_probs, num_samples=1)\n",
    "\n",
    "\n",
    "        else:\n",
    "            next_token_idx = torch.argmax(next_token_logits, dim=-1, keepdim=True)\n",
    "        \n",
    "        if next_token_idx.item() == CONFIG['vocab_size'] - 1:\n",
    "            break\n",
    "        \n",
    "        idx_batch = torch.cat((idx_batch, next_token_idx), dim=1)\n",
    "    \n",
    "    print(idxs_to_text(idx_batch, tokenizer).replace(\"\\n\", \" \"))"
   ]
  },
  {
   "cell_type": "code",
   "execution_count": 25,
   "metadata": {},
   "outputs": [
    {
     "name": "stdout",
     "output_type": "stream",
     "text": [
      "top_k: 1, temperature: 0.0\n",
      "Every effort moves you?\"  \"Oh, one of his pictures--so the me in a flash that he never thought of the fact, I had been, and\n",
      "top_k: 1, temperature: 0.5\n",
      "Every effort moves you?\"  \"I didn't--I felt him, the his history in the house.\"         \"I\n",
      "top_k: 1, temperature: 1.0\n",
      "Every effort moves you?\"  \"Oh, and he was his pictures--as the last word. \"Oh, and went on aing and in the donkey\n",
      "top_k: 1, temperature: 1.5\n",
      "Every effort moves you, I had been that, one of the with a deprecating of a flash that he never to me to have women had made him, I\n",
      "top_k: 1, temperature: 2.0\n",
      "Every effort moves you?\"    \"I glanced after--and--as the last he was when she began to me to me to the cigars you know.\n",
      "top_k: 3, temperature: 0.0\n",
      "Every effort moves you know,\" was one of the picture. Gisburn--as the last Gisburn's \"Yes--and I felt to have to the.\n",
      "top_k: 3, temperature: 0.5\n",
      "Every effort moves you?\"  \"I didn't. Gisburn--as you in a flash that he never thought of the fact, the cigars you know.\"\n",
      "top_k: 3, temperature: 1.0\n",
      "Every effort moves you?\"   I didn't--as he said to the me. Gisburn's an's I felt him, the cigars you know.\n",
      "top_k: 3, temperature: 1.5\n",
      "Every effort moves you know,\", on a little wild--as--I to the fellow enough--so it was no great that it, he had always been taken.\n",
      "top_k: 3, temperature: 2.0\n",
      "Every effort moves you?\" It was not that my dear, and he said--as you--had not to my work, and to have to have to me, I\n",
      "top_k: 5, temperature: 0.0\n",
      "Every effort moves you know,\" was one of the picture--I felt to say by his of a flash that he never thought of! The women had been you--it\n",
      "top_k: 5, temperature: 0.5\n",
      "Every effort moves you?\"  \"Oh, the last was dead.\" I. Stroud it was not till was, and in an unusual degree to the donkey\n",
      "top_k: 5, temperature: 1.0\n",
      "Every effort moves you in I had not--his one of the deep that with the end one of. Gisburn was dead up, I seemed to to the picture\n",
      "top_k: 5, temperature: 1.5\n",
      "Every effort moves you in the through my.\"  \"-- he's an--as. \"Yes, my work, and went on a smile that he said.\n",
      "top_k: 5, temperature: 2.0\n",
      "Every effort moves you say that he ch in the picture-- to the. The good fellow--as the: of my own and in him to have been out, so\n",
      "top_k: 10, temperature: 0.0\n",
      "Every effort moves you say that, and in the picture--I felt nervous and he had been in the house.\"        \"Oh,\n",
      "top_k: 10, temperature: 0.5\n",
      "Every effort moves you?\"  \"I--as he was his, and he was one in the last he never thought of the fact, had made him--his\n",
      "top_k: 10, temperature: 1.0\n",
      "Every effort moves you know that, on---that was his pictures--so it were days me back from the picture to go! The women.    \n",
      "top_k: 10, temperature: 1.5\n",
      "Every effort moves you say that to my surprise with a picture--the't of good.\"  \"The of the fact, his eyes grew to me. Gis\n",
      "top_k: 10, temperature: 2.0\n",
      "Every effort moves you know. \"Be--it was no one him, and I said with him when: of the moment, in an endless at.\" \"Oh\n",
      "top_k: 100, temperature: 0.0\n",
      "Every effort moves you?\"  \"--and his? I felt nervous and the his pictures--so it was no great surprise to me to me. Gisburn\n",
      "top_k: 100, temperature: 0.5\n",
      "Every effort moves you in the only- a little too? I felt nervous and he had always a little: \"Yes--that was _, I had been: \"\n",
      "top_k: 100, temperature: 1.0\n",
      "Every effort moves you of Hermia toI into a flash a little that he But fellow enough--thatas Jack Gisburn's have of the to brown in the\n",
      "top_k: 100, temperature: 1.5\n",
      "Every effort moves youdragged him. G one half nothing--I Mrs. single with him so that-- such to see! It Mrs. G was tired\n",
      "top_k: 100, temperature: 2.0\n",
      "Every effort moves you, have a monumental that my felt what so a little out him be but added was by,\" \" eyesoust herself fact brought to cry_!\" that\n"
     ]
    }
   ],
   "source": [
    "torch.manual_seed(42)\n",
    "\n",
    "for top_k in [1, 3, 5, 10, 100]:\n",
    "    for temperature in [0.0, 0.5, 1.0, 1.5, 2.0]:\n",
    "        print(f'top_k: {top_k}, temperature: {temperature}')\n",
    "        generate_topk(model=model,\n",
    "                start_context=\"Every effort moves you\",\n",
    "                context_size=CONFIG[\"context_length\"],\n",
    "                max_new_tokens=30,\n",
    "                top_k=top_k,\n",
    "                temperature=temperature)"
   ]
  }
 ],
 "metadata": {
  "kernelspec": {
   "display_name": "llm_from_scratch",
   "language": "python",
   "name": "python3"
  },
  "language_info": {
   "codemirror_mode": {
    "name": "ipython",
    "version": 3
   },
   "file_extension": ".py",
   "mimetype": "text/x-python",
   "name": "python",
   "nbconvert_exporter": "python",
   "pygments_lexer": "ipython3",
   "version": "3.11.10"
  }
 },
 "nbformat": 4,
 "nbformat_minor": 2
}
